{
 "cells": [
  {
   "cell_type": "code",
   "execution_count": 2,
   "id": "ccebd7db-1969-4a91-9240-42c2a56221a5",
   "metadata": {},
   "outputs": [],
   "source": [
    "# This is the way\n",
    "# Author: pythontoday\n",
    "# YouTube: https://www.youtube.com/c/PythonToday/videos\n",
    "\n",
    "import re\n",
    "from bs4 import BeautifulSoup"
   ]
  },
  {
   "cell_type": "code",
   "execution_count": 14,
   "id": "23dd8238-548b-4bc7-b562-e43d39c92437",
   "metadata": {
    "collapsed": true,
    "jupyter": {
     "outputs_hidden": true
    },
    "tags": []
   },
   "outputs": [
    {
     "name": "stdout",
     "output_type": "stream",
     "text": [
      "<!DOCTYPE html>\n",
      "<html lang=\"en\">\n",
      "<head>\n",
      "    <meta charset=\"UTF-8\">\n",
      "    <title>Главная страница блога</title>\n",
      "    <link rel=\"stylesheet\" href=\"style.css\">\n",
      "</head>\n",
      "<body>\n",
      "<div class=\"container\">\n",
      "    <h1>Страница пользователя Mr. Anderson</h1>\n",
      "    <h1>Ещё один h1 заголовок</h1>\n",
      "    <div class=\"user__data\">\n",
      "        <div class=\"user__avatar\">\n",
      "            <img src=\"user_avatar.jpg\" alt=\"\">\n",
      "        </div>\n",
      "        <div class=\"user__info\">\n",
      "<!--            <a href=\"\" class=\"user__name\">-->\n",
      "<!--                <span>Mrs Purple</span>-->\n",
      "<!--            </a>-->\n",
      "            <div class=\"user__name\" id=\"aaa\">\n",
      "                <span>Mr Anderson</span>\n",
      "            </div>\n",
      "            <div class=\"user__birth__date\">\n",
      "                <span>Дата рождения:</span>\n",
      "                <span>01.01.1970</span>\n",
      "            </div>\n",
      "            <div class=\"user__city\">\n",
      "                <span class=\"city__label\">Город:</span>\n",
      "                <span>Los Angeles</span>\n",
      "            </div>\n",
      "<!--            <a href=\"\">ЕЩЁ КАКАЯ-ТО ССЫЛКА</a>-->\n",
      "            <div class=\"social__networks\">\n",
      "                <p>Ссылки на соц.сети:</p>\n",
      "                <ul>\n",
      "                    <li>\n",
      "                        <a href=\"http://instagram.com/username\">Instagram</a>\n",
      "                    </li>\n",
      "                    <li>\n",
      "                        <a href=\"http://twitter.com/username\">Twitter</a>\n",
      "                    </li>\n",
      "                    <li>\n",
      "                        <a href=\"http://youtube.com/username\">Youtube</a>\n",
      "                    </li>\n",
      "                </ul>\n",
      "            </div>\n",
      "        </div>\n",
      "    </div>\n",
      "    <div class=\"user__blog__wall\">\n",
      "        <div class=\"blog__title\">Блог</div>\n",
      "        <div class=\"user__post\">\n",
      "            <div class=\"user__post__info\">\n",
      "                <div class=\"post__title\">\n",
      "                    <h3>Российская нейросеть сортирует пластик с точностью 95%</h3>\n",
      "                </div>\n",
      "                <div class=\"post__date\">\n",
      "                    01.01.2020\n",
      "                </div>\n",
      "                <div class=\"post__text\">\n",
      "                    Lorem ipsum dolor sit amet, consectetur adipiscing elit, sed do eiusmod tempor incididunt ut labore\n",
      "                    et dolore magna aliqua. Vitae justo eget magna fermentum iaculis eu. Nibh sit amet commodo nulla\n",
      "                    facilisi nullam vehicula ipsum. Elit pellentesque habitant morbi tristique senectus et netus et\n",
      "                    malesuada.\n",
      "                </div>\n",
      "            </div>\n",
      "        </div>\n",
      "        <div class=\"user__post\">\n",
      "            <div class=\"user__post__info\">\n",
      "                <div class=\"post__title\">\n",
      "                    <h3>Wi-Fi Hack одежда</h3>\n",
      "                </div>\n",
      "                <div class=\"post__text\">\n",
      "                    Semper risus in hendrerit gravida rutrum quisque. Imperdiet sed euismod nisi porta lorem mollis\n",
      "                    aliquam. Blandit massa enim nec dui nunc mattis enim. Enim neque volutpat ac tincidunt vitae semper.\n",
      "                </div>\n",
      "            </div>\n",
      "        </div>\n",
      "        <div class=\"user__post\">\n",
      "            <div class=\"user__post__info\">\n",
      "                <div class=\"post__title\">\n",
      "                    <h3>Twitter будет банить пользователей, которые желают смерти другим</h3>\n",
      "                </div>\n",
      "                <div class=\"post__text\">\n",
      "                    Lobortis scelerisque fermentum dui faucibus in ornare quam viverra orci. Eget lorem dolor sed\n",
      "                    viverra ipsum nunc aliquet. Nunc id cursus metus aliquam eleifend mi in nulla. Aliquam id diam\n",
      "                    maecenas ultricies mi eget mauris pharetra. Ut tortor pretium viverra suspendisse potenti.\n",
      "                </div>\n",
      "            </div>\n",
      "        </div>\n",
      "    </div>\n",
      "    <div class=\"some__links\">\n",
      "        <a href=\"/supermarket/\" data-attr=\"shop_link\">Магазин</a>\n",
      "        <a href=\"/clothes/\" data-attr=\"777\">Одежда для взрослых</a>\n",
      "    </div>\n",
      "</div>\n",
      "</body>\n",
      "</html>\n"
     ]
    }
   ],
   "source": [
    "with open(\"blank/index2.html\", encoding=\"utf-8\") as file:\n",
    "    src = file.read()\n",
    "    print(src)\n",
    "\n",
    "soup = BeautifulSoup(src, \"lxml\")"
   ]
  },
  {
   "cell_type": "code",
   "execution_count": 6,
   "id": "9aca762b-ad3f-4fee-a5f2-fe5fc5712bbe",
   "metadata": {},
   "outputs": [
    {
     "name": "stdout",
     "output_type": "stream",
     "text": [
      "<title>Главная страница блога</title>\n",
      "Главная страница блога\n",
      "Главная страница блога\n"
     ]
    }
   ],
   "source": [
    "title = soup.title\n",
    "print(title)\n",
    "print(title.text)\n",
    "print(title.string)"
   ]
  },
  {
   "cell_type": "code",
   "execution_count": 15,
   "id": "072727bb-5a7d-4b55-9b5c-17126f9d324a",
   "metadata": {},
   "outputs": [
    {
     "name": "stdout",
     "output_type": "stream",
     "text": [
      "<h1>Страница пользователя Mr. Anderson</h1>\n"
     ]
    }
   ],
   "source": [
    "# .find() .find_all()\n",
    "page_h1 = soup.find(\"h1\")\n",
    "print(page_h1)\n"
   ]
  },
  {
   "cell_type": "code",
   "execution_count": 16,
   "id": "c7b51325-4a9d-4e70-aecf-e259af974813",
   "metadata": {},
   "outputs": [
    {
     "name": "stdout",
     "output_type": "stream",
     "text": [
      "[<h1>Страница пользователя Mr. Anderson</h1>, <h1>Ещё один h1 заголовок</h1>]\n"
     ]
    }
   ],
   "source": [
    "page_all_h1 = soup.find_all(\"h1\")\n",
    "print(page_all_h1)\n"
   ]
  },
  {
   "cell_type": "code",
   "execution_count": 17,
   "id": "922809f4-e085-49c9-808e-76809779d509",
   "metadata": {},
   "outputs": [
    {
     "name": "stdout",
     "output_type": "stream",
     "text": [
      "Страница пользователя Mr. Anderson\n",
      "Ещё один h1 заголовок\n"
     ]
    }
   ],
   "source": [
    "for item in page_all_h1:\n",
    "    print(item.text)"
   ]
  },
  {
   "cell_type": "code",
   "execution_count": 18,
   "id": "b54e2057-59eb-4cf7-a944-39154387398b",
   "metadata": {},
   "outputs": [
    {
     "name": "stdout",
     "output_type": "stream",
     "text": [
      "Mr Anderson\n"
     ]
    }
   ],
   "source": [
    "user_name = soup.find(\"div\", class_=\"user__name\")\n",
    "print(user_name.text.strip())"
   ]
  },
  {
   "cell_type": "code",
   "execution_count": 19,
   "id": "2109d517-6a18-4b36-be4c-a68d6cf6135e",
   "metadata": {},
   "outputs": [
    {
     "name": "stdout",
     "output_type": "stream",
     "text": [
      "Mr Anderson\n"
     ]
    }
   ],
   "source": [
    "user_name = soup.find(class_=\"user__name\").find(\"span\").text\n",
    "print(user_name)"
   ]
  },
  {
   "cell_type": "code",
   "execution_count": 20,
   "id": "45152297-e8ff-4955-9a3a-4c6c58b47513",
   "metadata": {},
   "outputs": [
    {
     "name": "stdout",
     "output_type": "stream",
     "text": [
      "Mr Anderson\n"
     ]
    }
   ],
   "source": [
    "# вторым атрибутом для фильтрации поиска являеться передача словаря\n",
    "user_name = soup.find(\"div\", {\"class\": \"user__name\", \"id\": \"aaa\"}).find(\"span\").text\n",
    "print(user_name)"
   ]
  },
  {
   "cell_type": "code",
   "execution_count": 21,
   "id": "3cf37ce8-12e6-4324-b12c-d7fb7a994386",
   "metadata": {},
   "outputs": [
    {
     "name": "stdout",
     "output_type": "stream",
     "text": [
      "[<span>Mr Anderson</span>, <span>Дата рождения:</span>, <span>01.01.1970</span>, <span class=\"city__label\">Город:</span>, <span>Los Angeles</span>]\n"
     ]
    }
   ],
   "source": [
    "find_all_spans_in_user_info = soup.find(class_=\"user__info\").find_all(\"span\")\n",
    "print(find_all_spans_in_user_info)\n"
   ]
  },
  {
   "cell_type": "code",
   "execution_count": 22,
   "id": "6f6e4130-2caa-4979-972a-21bf764ee2e0",
   "metadata": {},
   "outputs": [
    {
     "name": "stdout",
     "output_type": "stream",
     "text": [
      "Mr Anderson\n",
      "Дата рождения:\n",
      "01.01.1970\n",
      "Город:\n",
      "Los Angeles\n"
     ]
    }
   ],
   "source": [
    "for item in find_all_spans_in_user_info:\n",
    "    print(item.text)"
   ]
  },
  {
   "cell_type": "code",
   "execution_count": 23,
   "id": "4992aafc-8138-439c-962d-6ce4d4898138",
   "metadata": {},
   "outputs": [
    {
     "name": "stdout",
     "output_type": "stream",
     "text": [
      "<span>Mr Anderson</span>\n",
      "01.01.1970\n"
     ]
    }
   ],
   "source": [
    "print(find_all_spans_in_user_info[0])\n",
    "print(find_all_spans_in_user_info[2].text)"
   ]
  },
  {
   "cell_type": "code",
   "execution_count": 24,
   "id": "0367a905-a412-41cf-a620-9c25b6e417f2",
   "metadata": {},
   "outputs": [
    {
     "name": "stdout",
     "output_type": "stream",
     "text": [
      "[<a href=\"http://instagram.com/username\">Instagram</a>, <a href=\"http://twitter.com/username\">Twitter</a>, <a href=\"http://youtube.com/username\">Youtube</a>]\n"
     ]
    }
   ],
   "source": [
    "social_links = soup.find(class_=\"social__networks\").find(\"ul\").find_all(\"a\")\n",
    "print(social_links)"
   ]
  },
  {
   "cell_type": "code",
   "execution_count": 25,
   "id": "7f030b14-b3dc-4cd2-abe5-0734a1c4557d",
   "metadata": {},
   "outputs": [
    {
     "name": "stdout",
     "output_type": "stream",
     "text": [
      "[<a href=\"http://instagram.com/username\">Instagram</a>, <a href=\"http://twitter.com/username\">Twitter</a>, <a href=\"http://youtube.com/username\">Youtube</a>, <a data-attr=\"shop_link\" href=\"/supermarket/\">Магазин</a>, <a data-attr=\"777\" href=\"/clothes/\">Одежда для взрослых</a>]\n"
     ]
    }
   ],
   "source": [
    "all_a = soup.find_all(\"a\")\n",
    "print(all_a)"
   ]
  },
  {
   "cell_type": "code",
   "execution_count": 26,
   "id": "b9b9d4bd-2ea2-4b67-bf1c-2b2a6a94efc6",
   "metadata": {},
   "outputs": [
    {
     "name": "stdout",
     "output_type": "stream",
     "text": [
      "Instagram: http://instagram.com/username\n",
      "Twitter: http://twitter.com/username\n",
      "Youtube: http://youtube.com/username\n",
      "Магазин: /supermarket/\n",
      "Одежда для взрослых: /clothes/\n"
     ]
    }
   ],
   "source": [
    "for item in all_a:\n",
    "    item_text = item.text\n",
    "    item_url = item.get(\"href\")\n",
    "    print(f\"{item_text}: {item_url}\")"
   ]
  },
  {
   "cell_type": "code",
   "execution_count": 27,
   "id": "1f5194db-b321-46d2-a1cd-f1a2ae5e5bb0",
   "metadata": {
    "collapsed": true,
    "jupyter": {
     "outputs_hidden": true
    },
    "tags": []
   },
   "outputs": [
    {
     "name": "stdout",
     "output_type": "stream",
     "text": [
      "<div class=\"user__post__info\">\n",
      "<div class=\"post__title\">\n",
      "<h3>Российская нейросеть сортирует пластик с точностью 95%</h3>\n",
      "</div>\n",
      "<div class=\"post__date\">\n",
      "                    01.01.2020\n",
      "                </div>\n",
      "<div class=\"post__text\">\n",
      "                    Lorem ipsum dolor sit amet, consectetur adipiscing elit, sed do eiusmod tempor incididunt ut labore\n",
      "                    et dolore magna aliqua. Vitae justo eget magna fermentum iaculis eu. Nibh sit amet commodo nulla\n",
      "                    facilisi nullam vehicula ipsum. Elit pellentesque habitant morbi tristique senectus et netus et\n",
      "                    malesuada.\n",
      "                </div>\n",
      "</div>\n"
     ]
    }
   ],
   "source": [
    "#.find_parent() .find_parents()\n",
    "\n",
    "post_div = soup.find(class_=\"post__text\").find_parent()\n",
    "print(post_div)"
   ]
  },
  {
   "cell_type": "code",
   "execution_count": 28,
   "id": "2a3944db-41bd-4fa1-829b-9991e5bb2d60",
   "metadata": {
    "tags": []
   },
   "outputs": [
    {
     "name": "stdout",
     "output_type": "stream",
     "text": [
      "<div class=\"user__post\">\n",
      "<div class=\"user__post__info\">\n",
      "<div class=\"post__title\">\n",
      "<h3>Российская нейросеть сортирует пластик с точностью 95%</h3>\n",
      "</div>\n",
      "<div class=\"post__date\">\n",
      "                    01.01.2020\n",
      "                </div>\n",
      "<div class=\"post__text\">\n",
      "                    Lorem ipsum dolor sit amet, consectetur adipiscing elit, sed do eiusmod tempor incididunt ut labore\n",
      "                    et dolore magna aliqua. Vitae justo eget magna fermentum iaculis eu. Nibh sit amet commodo nulla\n",
      "                    facilisi nullam vehicula ipsum. Elit pellentesque habitant morbi tristique senectus et netus et\n",
      "                    malesuada.\n",
      "                </div>\n",
      "</div>\n",
      "</div>\n"
     ]
    }
   ],
   "source": [
    "post_div = soup.find(class_=\"post__text\").find_parent(\"div\", \"user__post\")\n",
    "print(post_div)"
   ]
  },
  {
   "cell_type": "code",
   "execution_count": 31,
   "id": "42032683-f141-42c1-b29c-474e57b199a0",
   "metadata": {
    "collapsed": true,
    "jupyter": {
     "outputs_hidden": true
    },
    "tags": []
   },
   "outputs": [
    {
     "name": "stdout",
     "output_type": "stream",
     "text": [
      "[<div class=\"user__blog__wall\">\n",
      "<div class=\"blog__title\">Блог</div>\n",
      "<div class=\"user__post\">\n",
      "<div class=\"user__post__info\">\n",
      "<div class=\"post__title\">\n",
      "<h3>Российская нейросеть сортирует пластик с точностью 95%</h3>\n",
      "</div>\n",
      "<div class=\"post__date\">\n",
      "                    01.01.2020\n",
      "                </div>\n",
      "<div class=\"post__text\">\n",
      "                    Lorem ipsum dolor sit amet, consectetur adipiscing elit, sed do eiusmod tempor incididunt ut labore\n",
      "                    et dolore magna aliqua. Vitae justo eget magna fermentum iaculis eu. Nibh sit amet commodo nulla\n",
      "                    facilisi nullam vehicula ipsum. Elit pellentesque habitant morbi tristique senectus et netus et\n",
      "                    malesuada.\n",
      "                </div>\n",
      "</div>\n",
      "</div>\n",
      "<div class=\"user__post\">\n",
      "<div class=\"user__post__info\">\n",
      "<div class=\"post__title\">\n",
      "<h3>Wi-Fi Hack одежда</h3>\n",
      "</div>\n",
      "<div class=\"post__text\">\n",
      "                    Semper risus in hendrerit gravida rutrum quisque. Imperdiet sed euismod nisi porta lorem mollis\n",
      "                    aliquam. Blandit massa enim nec dui nunc mattis enim. Enim neque volutpat ac tincidunt vitae semper.\n",
      "                </div>\n",
      "</div>\n",
      "</div>\n",
      "<div class=\"user__post\">\n",
      "<div class=\"user__post__info\">\n",
      "<div class=\"post__title\">\n",
      "<h3>Twitter будет банить пользователей, которые желают смерти другим</h3>\n",
      "</div>\n",
      "<div class=\"post__text\">\n",
      "                    Lobortis scelerisque fermentum dui faucibus in ornare quam viverra orci. Eget lorem dolor sed\n",
      "                    viverra ipsum nunc aliquet. Nunc id cursus metus aliquam eleifend mi in nulla. Aliquam id diam\n",
      "                    maecenas ultricies mi eget mauris pharetra. Ut tortor pretium viverra suspendisse potenti.\n",
      "                </div>\n",
      "</div>\n",
      "</div>\n",
      "</div>]\n"
     ]
    }
   ],
   "source": [
    "post_divs = soup.find(class_=\"post__text\").find_parents('div', 'user__blog__wall') # или идёт до самого верха страници\n",
    "print(post_divs)"
   ]
  },
  {
   "cell_type": "code",
   "execution_count": 32,
   "id": "482d86e1-3dec-49bb-bd00-d9a33192a410",
   "metadata": {},
   "outputs": [
    {
     "name": "stdout",
     "output_type": "stream",
     "text": [
      "Российская нейросеть сортирует пластик с точностью 95%\n"
     ]
    }
   ],
   "source": [
    "# .next_element .previous_element\n",
    "\n",
    "next_el = soup.find(class_=\"post__title\").next_element.next_element.text # повторение next_element по тому, что при \n",
    "                                                                        # одном вернёт перенос строки-пробел\n",
    "print(next_el)"
   ]
  },
  {
   "cell_type": "code",
   "execution_count": 33,
   "id": "55959014-c39d-424f-b616-54f21480e0ba",
   "metadata": {},
   "outputs": [
    {
     "name": "stdout",
     "output_type": "stream",
     "text": [
      "Российская нейросеть сортирует пластик с точностью 95%\n"
     ]
    }
   ],
   "source": [
    "next_el = soup.find(class_=\"post__title\").find_next().text\n",
    "print(next_el)"
   ]
  },
  {
   "cell_type": "code",
   "execution_count": 35,
   "id": "802bcd08-223f-4eae-9eca-467ee519f226",
   "metadata": {},
   "outputs": [
    {
     "name": "stdout",
     "output_type": "stream",
     "text": [
      "<div class=\"post__text\">\n",
      "                    Lorem ipsum dolor sit amet, consectetur adipiscing elit, sed do eiusmod tempor incididunt ut labore\n",
      "                    et dolore magna aliqua. Vitae justo eget magna fermentum iaculis eu. Nibh sit amet commodo nulla\n",
      "                    facilisi nullam vehicula ipsum. Elit pellentesque habitant morbi tristique senectus et netus et\n",
      "                    malesuada.\n",
      "                </div>\n"
     ]
    }
   ],
   "source": [
    "# .find_next_sibling() .find_previous_sibling()\n",
    "\n",
    "next_sib = soup.find(class_=\"post__date\").find_next_sibling()\n",
    "print(next_sib)"
   ]
  },
  {
   "cell_type": "code",
   "execution_count": 36,
   "id": "3aa001e0-25e5-4816-9318-17b4fdf1be59",
   "metadata": {},
   "outputs": [
    {
     "name": "stdout",
     "output_type": "stream",
     "text": [
      "<div class=\"post__title\">\n",
      "<h3>Российская нейросеть сортирует пластик с точностью 95%</h3>\n",
      "</div>\n"
     ]
    }
   ],
   "source": [
    "prev_sib = soup.find(class_=\"post__date\").find_previous_sibling()\n",
    "print(prev_sib)"
   ]
  },
  {
   "cell_type": "code",
   "execution_count": 37,
   "id": "49aef33c-3b5e-423b-b682-a058781ea54b",
   "metadata": {},
   "outputs": [
    {
     "name": "stdout",
     "output_type": "stream",
     "text": [
      "Российская нейросеть сортирует пластик с точностью 95%\n"
     ]
    }
   ],
   "source": [
    "# комбинация методов даёт возможность перемещения в нутри html кода \n",
    "post_title = soup.find(class_=\"post__date\").find_previous_sibling().find_next().text \n",
    "print(post_title)"
   ]
  },
  {
   "cell_type": "code",
   "execution_count": 38,
   "id": "f5e18b8d-8d51-43f6-8e93-75304c52ecb5",
   "metadata": {},
   "outputs": [
    {
     "name": "stdout",
     "output_type": "stream",
     "text": [
      "[<a data-attr=\"shop_link\" href=\"/supermarket/\">Магазин</a>, <a data-attr=\"777\" href=\"/clothes/\">Одежда для взрослых</a>]\n"
     ]
    }
   ],
   "source": [
    "links = soup.find(class_=\"some__links\").find_all(\"a\")\n",
    "print(links)"
   ]
  },
  {
   "cell_type": "code",
   "execution_count": 39,
   "id": "ab89b6a6-6dc3-4780-b529-c791e250af77",
   "metadata": {},
   "outputs": [
    {
     "name": "stdout",
     "output_type": "stream",
     "text": [
      "/supermarket/\n",
      "shop_link\n",
      "/clothes/\n",
      "777\n"
     ]
    }
   ],
   "source": [
    "for link in links:\n",
    "    link_href_attr = link.get(\"href\")\n",
    "    link_href_attr1 = link[\"href\"]\n",
    "\n",
    "    link_data_attr = link.get(\"data-attr\")\n",
    "    link_data_attr1 = link[\"data-attr\"]\n",
    "\n",
    "    print(link_href_attr1)\n",
    "    print(link_data_attr1)"
   ]
  },
  {
   "cell_type": "code",
   "execution_count": 40,
   "id": "863b50ba-bc9d-4a41-8f5b-7481f2077186",
   "metadata": {},
   "outputs": [
    {
     "name": "stdout",
     "output_type": "stream",
     "text": [
      "None\n"
     ]
    }
   ],
   "source": [
    "find_a_by_text = soup.find(\"a\", text=\"Одежда\")\n",
    "print(find_a_by_text)"
   ]
  },
  {
   "cell_type": "code",
   "execution_count": 41,
   "id": "04fdecd1-0ef6-449b-82a1-f4c2ac703d75",
   "metadata": {},
   "outputs": [
    {
     "name": "stdout",
     "output_type": "stream",
     "text": [
      "<a data-attr=\"777\" href=\"/clothes/\">Одежда для взрослых</a>\n"
     ]
    }
   ],
   "source": [
    "find_a_by_text = soup.find(\"a\", text=\"Одежда для взрослых\")\n",
    "print(find_a_by_text)"
   ]
  },
  {
   "cell_type": "code",
   "execution_count": 42,
   "id": "9b835394-2dd7-44c1-9bce-3818b50c3940",
   "metadata": {},
   "outputs": [
    {
     "name": "stdout",
     "output_type": "stream",
     "text": [
      "<a data-attr=\"777\" href=\"/clothes/\">Одежда для взрослых</a>\n"
     ]
    }
   ],
   "source": [
    "find_a_by_text = soup.find(\"a\", text=re.compile(\"Одежда\"))\n",
    "print(find_a_by_text)"
   ]
  },
  {
   "cell_type": "code",
   "execution_count": 43,
   "id": "3e567184-e5a9-4747-ab87-204c64cb6663",
   "metadata": {},
   "outputs": [
    {
     "name": "stdout",
     "output_type": "stream",
     "text": [
      "['Wi-Fi Hack одежда', 'Одежда для взрослых']\n"
     ]
    }
   ],
   "source": [
    "find_all_clothes = soup.find_all(text=re.compile(\"([Оо]дежда)\"))\n",
    "print(find_all_clothes)"
   ]
  },
  {
   "cell_type": "code",
   "execution_count": null,
   "id": "89d11376-74c3-48e7-9922-b1a8be07e266",
   "metadata": {},
   "outputs": [],
   "source": []
  }
 ],
 "metadata": {
  "kernelspec": {
   "display_name": "Python 3 (ipykernel)",
   "language": "python",
   "name": "python3"
  },
  "language_info": {
   "codemirror_mode": {
    "name": "ipython",
    "version": 3
   },
   "file_extension": ".py",
   "mimetype": "text/x-python",
   "name": "python",
   "nbconvert_exporter": "python",
   "pygments_lexer": "ipython3",
   "version": "3.9.7"
  },
  "widgets": {
   "application/vnd.jupyter.widget-state+json": {
    "state": {},
    "version_major": 2,
    "version_minor": 0
   }
  }
 },
 "nbformat": 4,
 "nbformat_minor": 5
}
